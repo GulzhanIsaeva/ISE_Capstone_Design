{
 "cells": [
  {
   "cell_type": "code",
   "execution_count": 1,
   "id": "a4d9edb4",
   "metadata": {},
   "outputs": [
    {
     "name": "stdout",
     "output_type": "stream",
     "text": [
      "Looking in indexes: https://pypi.org/simple, https://www.piwheels.org/simple\n",
      "Collecting opencv-python\n",
      "  Using cached https://www.piwheels.org/simple/opencv-python/opencv_python-4.6.0.66-cp39-cp39-linux_armv7l.whl (11.3 MB)\n",
      "Collecting numpy>=1.19.3\n",
      "  Using cached https://www.piwheels.org/simple/numpy/numpy-1.23.3-cp39-cp39-linux_armv7l.whl (12.4 MB)\n",
      "Installing collected packages: numpy, opencv-python\n",
      "Successfully installed numpy-1.23.3 opencv-python-4.6.0.66\n"
     ]
    }
   ],
   "source": [
    "!pip install opencv-python"
   ]
  },
  {
   "cell_type": "code",
   "execution_count": 1,
   "id": "fd6ec705",
   "metadata": {},
   "outputs": [],
   "source": [
    "import cv2 \n",
    "import os \n",
    "import time \n",
    "import uuid"
   ]
  },
  {
   "cell_type": "code",
   "execution_count": 2,
   "id": "88eaf9a1",
   "metadata": {},
   "outputs": [],
   "source": [
    "IMAGE_PATH = 'collectedimages'"
   ]
  },
  {
   "cell_type": "code",
   "execution_count": 3,
   "id": "e86e1c57",
   "metadata": {},
   "outputs": [],
   "source": [
    "labels = ['hello', 'thanks', 'yes', 'no', 'help'] \n",
    "number_imgs = 15"
   ]
  },
  {
   "cell_type": "code",
   "execution_count": 4,
   "id": "c6662e96",
   "metadata": {},
   "outputs": [
    {
     "name": "stdout",
     "output_type": "stream",
     "text": [
      "Collecting images for hello\n",
      "Collecting images for thanks\n",
      "Collecting images for yes\n",
      "Collecting images for no\n",
      "Collecting images for help\n"
     ]
    }
   ],
   "source": [
    "for label in labels: \n",
    "    !mkdir {'collectedimages\\\\'+label} \n",
    "    cap = cv2.VideoCapture(0) \n",
    "    print('Collecting images for {}'.format(label)) \n",
    "    time.sleep(5) \n",
    "    for imgnum in range(number_imgs): \n",
    "        ret, frame = cap.read() \n",
    "        imgname = os.path.join(IMAGE_PATH, label, label+'.'+'{}.jpg'.format(str(uuid.uuid1()))) \n",
    "        cv2.imwrite(imgname, frame) \n",
    "        cv2.imshow('frame', frame) \n",
    "        time.sleep(2) \n",
    "         \n",
    "        if cv2.waitKey(1) & 0xFF == ord('q'): \n",
    "            break \n",
    "    cap.release()"
   ]
  },
  {
   "cell_type": "code",
   "execution_count": null,
   "id": "a7e51e80",
   "metadata": {},
   "outputs": [],
   "source": []
  }
 ],
 "metadata": {
  "kernelspec": {
   "display_name": "Python 3 (ipykernel)",
   "language": "python",
   "name": "python3"
  },
  "language_info": {
   "codemirror_mode": {
    "name": "ipython",
    "version": 3
   },
   "file_extension": ".py",
   "mimetype": "text/x-python",
   "name": "python",
   "nbconvert_exporter": "python",
   "pygments_lexer": "ipython3",
   "version": "3.9.2"
  }
 },
 "nbformat": 4,
 "nbformat_minor": 5
}
